{
  "nbformat": 4,
  "nbformat_minor": 0,
  "metadata": {
    "colab": {
      "name": "Numpy _Cookbook.py",
      "provenance": [],
      "collapsed_sections": []
    },
    "kernelspec": {
      "name": "python3",
      "display_name": "Python 3"
    }
  },
  "cells": [
    {
      "cell_type": "markdown",
      "metadata": {
        "id": "8jQlrXIkk9ji"
      },
      "source": [
        "NUMPY "
      ]
    },
    {
      "cell_type": "markdown",
      "metadata": {
        "id": "LPN2gj0PlDUq"
      },
      "source": [
        "* It is a library that allows us to use very large matrices, arrays, lists quickly.\n",
        "\n",
        "* It simplifies operations and allows us to calculate the averages and sums of columns without any hassle when dealing with data sets.\n",
        "\n",
        "\n",
        "\n"
      ]
    },
    {
      "cell_type": "markdown",
      "metadata": {
        "id": "6pL_rD3ulrnM"
      },
      "source": [
        "**Numpy Library Add**"
      ]
    },
    {
      "cell_type": "code",
      "metadata": {
        "id": "L7v1YZMMhAy6"
      },
      "source": [
        "import numpy as np"
      ],
      "execution_count": 1,
      "outputs": []
    },
    {
      "cell_type": "markdown",
      "metadata": {
        "id": "Ew3naxckmIdi"
      },
      "source": [
        " A Numpy Array Create \n",
        "\n",
        " Array is like Python's list.\n",
        "\n",
        " Code Logic: We have already entered a list in the np.array () function, we converted the List in Python to a numpy array."
      ]
    },
    {
      "cell_type": "code",
      "metadata": {
        "id": "yT_zpNySnHp7",
        "outputId": "5624f8a0-d4b7-40be-9f83-08d1399cf854",
        "colab": {
          "base_uri": "https://localhost:8080/",
          "height": 34
        }
      },
      "source": [
        "array = np.array([1,2,3,4])\n",
        "print(array)\n"
      ],
      "execution_count": 2,
      "outputs": [
        {
          "output_type": "stream",
          "text": [
            "[1 2 3 4]\n"
          ],
          "name": "stdout"
        }
      ]
    },
    {
      "cell_type": "markdown",
      "metadata": {
        "id": "9qtoSZQLn2OJ"
      },
      "source": [
        " We created a vector (1,4) of 1 row and 4 columns"
      ]
    },
    {
      "cell_type": "markdown",
      "metadata": {
        "id": "mko0nlg2oPWM"
      },
      "source": [
        "**Find the size of the array**\n",
        "\n",
        "ndarray.ndim\n",
        "the number of axes (dimensions) of the array.\n",
        "\n"
      ]
    },
    {
      "cell_type": "code",
      "metadata": {
        "id": "ohz9H6PBoLc_",
        "outputId": "27a51193-1c50-4432-95e4-7d1bc378f218",
        "colab": {
          "base_uri": "https://localhost:8080/",
          "height": 34
        }
      },
      "source": [
        "print(array.ndim) #it is one dimensional"
      ],
      "execution_count": 3,
      "outputs": [
        {
          "output_type": "stream",
          "text": [
            "1\n"
          ],
          "name": "stdout"
        }
      ]
    },
    {
      "cell_type": "code",
      "metadata": {
        "id": "Ujw2iTbhtNco",
        "outputId": "d3e142fa-0ad1-42a6-fb37-24a40f2aa486",
        "colab": {
          "base_uri": "https://localhost:8080/",
          "height": 34
        }
      },
      "source": [
        "array2 = np.array([[1,2],[3,4]])\n",
        "print(array2.ndim)  # it is two dimensional"
      ],
      "execution_count": 4,
      "outputs": [
        {
          "output_type": "stream",
          "text": [
            "2\n"
          ],
          "name": "stdout"
        }
      ]
    },
    {
      "cell_type": "markdown",
      "metadata": {
        "id": "8QMOeqWnuU3t"
      },
      "source": [
        "Finding the number of rows and columns of the array"
      ]
    },
    {
      "cell_type": "code",
      "metadata": {
        "id": "H5_5BFAXufuo",
        "outputId": "b8147b9c-84f0-4894-b45d-1f246ee95e79",
        "colab": {
          "base_uri": "https://localhost:8080/",
          "height": 34
        }
      },
      "source": [
        "print(array.shape) #A one-dimensional array (vector) of four elements"
      ],
      "execution_count": 5,
      "outputs": [
        {
          "output_type": "stream",
          "text": [
            "(4,)\n"
          ],
          "name": "stdout"
        }
      ]
    },
    {
      "cell_type": "code",
      "metadata": {
        "id": "N_R7VxNSvkik",
        "outputId": "8fdb5ba7-8553-4023-df3e-b4bea9b3a4e3",
        "colab": {
          "base_uri": "https://localhost:8080/",
          "height": 34
        }
      },
      "source": [
        "print(array2.shape) #A 2 dimensional array (matrix) consisting of 2 rows and 2 columns\n"
      ],
      "execution_count": 6,
      "outputs": [
        {
          "output_type": "stream",
          "text": [
            "(2, 2)\n"
          ],
          "name": "stdout"
        }
      ]
    },
    {
      "cell_type": "markdown",
      "metadata": {
        "id": "H2_mc81KwfIG"
      },
      "source": [
        "**Changing the number of rows and columns of the array.**"
      ]
    },
    {
      "cell_type": "code",
      "metadata": {
        "id": "X83paozWwhfG",
        "outputId": "e9922179-0620-4707-b6c3-2c9d421c45de",
        "colab": {
          "base_uri": "https://localhost:8080/",
          "height": 68
        }
      },
      "source": [
        "print(array.reshape(1,4)) #1 row became 4 columns\n",
        "print(array.reshape(2,2)) #2 row became 2 columns"
      ],
      "execution_count": 7,
      "outputs": [
        {
          "output_type": "stream",
          "text": [
            "[[1 2 3 4]]\n",
            "[[1 2]\n",
            " [3 4]]\n"
          ],
          "name": "stdout"
        }
      ]
    },
    {
      "cell_type": "markdown",
      "metadata": {
        "id": "gyeyi0DDxGIw"
      },
      "source": [
        "# Creating numpy array in certain range"
      ]
    },
    {
      "cell_type": "code",
      "metadata": {
        "id": "8zNQBxadxQBq",
        "outputId": "0b58ae5f-3827-47ef-c2bd-1bd596cb6e3e",
        "colab": {
          "base_uri": "https://localhost:8080/",
          "height": 34
        }
      },
      "source": [
        "array3 = np.arange(0,10,3) #np.arange(start, end, number of steps) used in the form\n",
        "print(array3)  #1 dimensional array of 4 elements."
      ],
      "execution_count": 8,
      "outputs": [
        {
          "output_type": "stream",
          "text": [
            "[0 3 6 9]\n"
          ],
          "name": "stdout"
        }
      ]
    },
    {
      "cell_type": "code",
      "metadata": {
        "id": "WLfPxs1gzJEF",
        "outputId": "2c3fa8f0-2abd-4fca-a233-81b8d32eaa11",
        "colab": {
          "base_uri": "https://localhost:8080/",
          "height": 34
        }
      },
      "source": [
        "array4 = np.arange(10) #We create arrays between 0 and 10, not including 10.\n",
        "print(array4) # 1 dimensional array of 10 elements.\n",
        "\n"
      ],
      "execution_count": 9,
      "outputs": [
        {
          "output_type": "stream",
          "text": [
            "[0 1 2 3 4 5 6 7 8 9]\n"
          ],
          "name": "stdout"
        }
      ]
    },
    {
      "cell_type": "markdown",
      "metadata": {
        "id": "rZ3qdrTcz0bL"
      },
      "source": [
        "**Selecting the elements of the array**"
      ]
    },
    {
      "cell_type": "code",
      "metadata": {
        "id": "JyowRXe2z-XB"
      },
      "source": [
        "array5 = np.arange(10)  #1 dimensional array of 10 elements\n",
        "\n",
        "array5 = array5.reshape(5,2) #5 rows have been transformed into an array of 2 columns."
      ],
      "execution_count": 10,
      "outputs": []
    },
    {
      "cell_type": "markdown",
      "metadata": {
        "id": "d1Y73eYd0xWp"
      },
      "source": [
        "Original of array: \", array5, sep =\" \\ n \""
      ]
    },
    {
      "cell_type": "code",
      "metadata": {
        "id": "vHsSp3ye0qMA",
        "outputId": "207d9821-c21f-4458-db58-22bd21fbc4a1",
        "colab": {
          "base_uri": "https://localhost:8080/",
          "height": 51
        }
      },
      "source": [
        "firstRow = array5[0]  # Let's select the 1st line of the array\n",
        "print(\"#1st line of the array: \", firstRow, sep=\"\\n\")\n"
      ],
      "execution_count": 11,
      "outputs": [
        {
          "output_type": "stream",
          "text": [
            "#1st line of the array: \n",
            "[0 1]\n"
          ],
          "name": "stdout"
        }
      ]
    },
    {
      "cell_type": "markdown",
      "metadata": {
        "id": "pN__Hm2i2H4Q"
      },
      "source": [
        "Let's Choose Row 1 and 2 of the Series"
      ]
    },
    {
      "cell_type": "code",
      "metadata": {
        "id": "M5RNxzWr2JXo",
        "outputId": "ba56cb11-884d-409d-b405-30292be3532e",
        "colab": {
          "base_uri": "https://localhost:8080/",
          "height": 68
        }
      },
      "source": [
        "firstAndSecondRow = array5[0:2] # From 0 to 2, 2 is not included.\n",
        "print(\"Row 1 and 2 of Series:\" , firstAndSecondRow , sep=\"\\n\")\n"
      ],
      "execution_count": 15,
      "outputs": [
        {
          "output_type": "stream",
          "text": [
            "Row 1 and 2 of Series:\n",
            "[[0 1]\n",
            " [2 3]]\n"
          ],
          "name": "stdout"
        }
      ]
    },
    {
      "cell_type": "markdown",
      "metadata": {
        "id": "aOFn5GJZ0RVF"
      },
      "source": [
        "Selecting any element from the array"
      ]
    },
    {
      "cell_type": "code",
      "metadata": {
        "id": "9bfwvvys0RlN",
        "outputId": "323edcf1-2fcd-4cde-97c1-5d3a8fbc292d",
        "colab": {
          "base_uri": "https://localhost:8080/",
          "height": 34
        }
      },
      "source": [
        "print(\"The value in the 3rd row and 1st column of the array : \", array5[3:1],  sep=\" \", end= \"\\n\")  #We selected the 1st element of the 3rd row"
      ],
      "execution_count": 18,
      "outputs": [
        {
          "output_type": "stream",
          "text": [
            "The value in the 3rd row and 1st column of the array :  []\n"
          ],
          "name": "stdout"
        }
      ]
    },
    {
      "cell_type": "markdown",
      "metadata": {
        "id": "JCXEMqcENTk2"
      },
      "source": [
        "Let's choose column 1"
      ]
    },
    {
      "cell_type": "code",
      "metadata": {
        "id": "71sZn_UnNYou"
      },
      "source": [
        "firstColumn = array5[:,0] \n",
        "\n",
        "print(\"Column 1 of the Series \" : \", firstColumn,sep=\"\\n\")"
      ],
      "execution_count": null,
      "outputs": []
    },
    {
      "cell_type": "markdown",
      "metadata": {
        "id": "6byOp_tUN8h9"
      },
      "source": [
        "Let's choose columns 1 and 2"
      ]
    },
    {
      "cell_type": "code",
      "metadata": {
        "id": "Z2JL7shMOAXI"
      },
      "source": [
        "firstAndSecondColumn = array5[:,0:2]"
      ],
      "execution_count": null,
      "outputs": []
    },
    {
      "cell_type": "markdown",
      "metadata": {
        "id": "NgSJ0JvWOeFz"
      },
      "source": [
        "Reverse the sequence"
      ]
    },
    {
      "cell_type": "code",
      "metadata": {
        "id": "WU4ERsXgPp-t"
      },
      "source": [
        "array6 = np.array([0, 1, 2, 3, 4, 5, 6, 7, 8, 9])   # Created a 1-dimensional array with 10 elements\n",
        "array6 = array6.reshape(5,2)                        \n",
        "\n",
        "print(\"Our Series : \", array6, sep=\"\\n\")\n",
        "array6 = array6[::-1]                               # Select all rows and columns.Multiply by -1 so the array is written backwards\n",
        "print(\"Our Inverted Array: \",array6,sep=\"\\n\")\n"
      ],
      "execution_count": null,
      "outputs": []
    },
    {
      "cell_type": "markdown",
      "metadata": {
        "id": "PQpEA-cIhiiV"
      },
      "source": [
        "**Creating a zero matrix.**"
      ]
    },
    {
      "cell_type": "code",
      "metadata": {
        "id": "97hi7rbdhke6"
      },
      "source": [
        " \n",
        " zerosArray = np.zeros((5,4)) #Creating a 0 matrix with 5 rows and 4 columns\n",
        "\n",
        " print(\"Creating a 0 matrix with 5 rows and 4 columns: \", zerosArray, sep=\"\\n\")"
      ],
      "execution_count": null,
      "outputs": []
    },
    {
      "cell_type": "markdown",
      "metadata": {
        "id": "qq9TevvEj5wv"
      },
      "source": [
        "**Creating The Ones Matrix**"
      ]
    },
    {
      "cell_type": "code",
      "metadata": {
        "id": "JoTKLOFwkDho"
      },
      "source": [
        "onesArray = np.ones((5,4))  #The ones matrix consisting of 5 rows and 4 columns was created\n",
        "print(\" The ones matrix consisting of 5 rows and 4 columns was created : \", onesArray,sep =\"\\n\")\n"
      ],
      "execution_count": null,
      "outputs": []
    },
    {
      "cell_type": "markdown",
      "metadata": {
        "id": "QXDPkrfQlCxk"
      },
      "source": [
        "**Creating The Unit Matrix**"
      ]
    },
    {
      "cell_type": "code",
      "metadata": {
        "id": "Gvd7ioSSlQjt"
      },
      "source": [
        "unitArray = np.eye(4) \n",
        "print(\" Unit of 4 rows and 4 columns matrix :\" , unitArray , sep=\"\\n\" )"
      ],
      "execution_count": null,
      "outputs": []
    },
    {
      "cell_type": "markdown",
      "metadata": {
        "id": "i_9-La5Tl2ES"
      },
      "source": [
        "**Combining Matrices**"
      ]
    },
    {
      "cell_type": "code",
      "metadata": {
        "id": "MlXiumI3l_Fa"
      },
      "source": [
        "array7 = np.array([0,1, 2, 3, 4, 5, 6, 7, 8, 9])\n",
        "array8 = np.array([\"a\",\"b\",\"c\",\"d\",\"e\",\"f\",\"g\",\"w\",\"u\",\"r\"])\n",
        "\n",
        "array7 = array7.reshape(5,2)\n",
        "array8 = array8.reshape(5,2)"
      ],
      "execution_count": null,
      "outputs": []
    },
    {
      "cell_type": "markdown",
      "metadata": {
        "id": "bwN2aXtDmOrq"
      },
      "source": [
        "**Let's Join The Rows**"
      ]
    },
    {
      "cell_type": "code",
      "metadata": {
        "id": "AzOBiI5zmXFV"
      },
      "source": [
        "print(np.concatenate([array7,array8],axis=0),sep=\"\\n\")"
      ],
      "execution_count": null,
      "outputs": []
    },
    {
      "cell_type": "markdown",
      "metadata": {
        "id": "ob9qnP2JmTtc"
      },
      "source": [
        "**Let's Join The Columns**"
      ]
    },
    {
      "cell_type": "code",
      "metadata": {
        "id": "CXzyIM0Wmi3p"
      },
      "source": [
        "print(np.concatenate([array7,array8],axis=1))"
      ],
      "execution_count": null,
      "outputs": []
    },
    {
      "cell_type": "markdown",
      "metadata": {
        "id": "7h8-XFj6pP1m"
      },
      "source": [
        "**Calculating Max and Min Values**"
      ]
    },
    {
      "cell_type": "code",
      "metadata": {
        "id": "O2awFWf8pUMO"
      },
      "source": [
        "numpy_array = np.array([0,1, 2, 3, 4, 5, 6, 7, 8, 9])\n",
        "numpy_array = numpy_array.reshape(5,2)\n",
        "print(\"Our Array : \", numpy_array, sep=\"\\n\")"
      ],
      "execution_count": null,
      "outputs": []
    },
    {
      "cell_type": "markdown",
      "metadata": {
        "id": "Vb3_V0BzplFc"
      },
      "source": [
        "**Finding The Max Value in The Array**"
      ]
    },
    {
      "cell_type": "code",
      "metadata": {
        "id": "iuUAbB2Ep1ws"
      },
      "source": [
        "print(\"MAX : \", numpy_array.max())"
      ],
      "execution_count": null,
      "outputs": []
    },
    {
      "cell_type": "markdown",
      "metadata": {
        "id": "I89xfPR3p-KY"
      },
      "source": [
        "**Finding The Min Value in The Array**"
      ]
    },
    {
      "cell_type": "code",
      "metadata": {
        "id": "zNGxgLBHp-wK"
      },
      "source": [
        "print(\"MIN: \", numpy_array.min())"
      ],
      "execution_count": null,
      "outputs": []
    },
    {
      "cell_type": "markdown",
      "metadata": {
        "id": "hbGXtlQoqOp0"
      },
      "source": [
        "**Collect The Whole Series**"
      ]
    },
    {
      "cell_type": "code",
      "metadata": {
        "id": "AHkPl1QFqa5L"
      },
      "source": [
        "print(\"SUM: \", numpy_array.sum())"
      ],
      "execution_count": null,
      "outputs": []
    },
    {
      "cell_type": "markdown",
      "metadata": {
        "id": "njUobtDsqhWJ"
      },
      "source": [
        "**Sum Of Rows**"
      ]
    },
    {
      "cell_type": "code",
      "metadata": {
        "id": "ZaSq17E7qrNj"
      },
      "source": [
        "print(\"Sum Of Rows : \",numpy_array.sum(axis = 1))"
      ],
      "execution_count": null,
      "outputs": []
    },
    {
      "cell_type": "markdown",
      "metadata": {
        "id": "QUvOIDQJq4xD"
      },
      "source": [
        "**Sum Of Columns**"
      ]
    },
    {
      "cell_type": "code",
      "metadata": {
        "id": "q1eno24rq_Tm"
      },
      "source": [
        "print(\"Sum Of Columns: \",numpy_array.sum(axis = 0))"
      ],
      "execution_count": null,
      "outputs": []
    },
    {
      "cell_type": "markdown",
      "metadata": {
        "id": "2DsQ_YGhrGSS"
      },
      "source": [
        "**Arithmetic Operations on Matrices**"
      ]
    },
    {
      "cell_type": "code",
      "metadata": {
        "id": "F4lseKuqr4w7"
      },
      "source": [
        "numpy_array = np.array([1, 2, 3, 4, 5, 6, 7, 8, 9])\n",
        "numpy_array = numpy_array.reshape(3,3)\n",
        "print(numpy_array)"
      ],
      "execution_count": null,
      "outputs": []
    },
    {
      "cell_type": "markdown",
      "metadata": {
        "id": "fxfkiQuCrGQD"
      },
      "source": [
        "**Addition**"
      ]
    },
    {
      "cell_type": "code",
      "metadata": {
        "id": "XdxPqUgqsG-H"
      },
      "source": [
        "print(numpy_array + numpy_array)"
      ],
      "execution_count": null,
      "outputs": []
    },
    {
      "cell_type": "markdown",
      "metadata": {
        "id": "xLIHqdNVsMQC"
      },
      "source": [
        "**Subtraction**"
      ]
    },
    {
      "cell_type": "code",
      "metadata": {
        "id": "qNvKKE91spke"
      },
      "source": [
        "print(numpy_array - numpy_array)"
      ],
      "execution_count": null,
      "outputs": []
    },
    {
      "cell_type": "markdown",
      "metadata": {
        "id": "fc18EZ38svF2"
      },
      "source": [
        "**Multiplication**"
      ]
    },
    {
      "cell_type": "code",
      "metadata": {
        "id": "Tfiy2jPks6Q5"
      },
      "source": [
        "print(numpy_array * numpy_array)\n"
      ],
      "execution_count": null,
      "outputs": []
    },
    {
      "cell_type": "markdown",
      "metadata": {
        "id": "3lX73Jwxs-5f"
      },
      "source": [
        "**Division**"
      ]
    },
    {
      "cell_type": "code",
      "metadata": {
        "id": "YKZlMdxntI7s"
      },
      "source": [
        "print(numpy_array / numpy_array)\n"
      ],
      "execution_count": null,
      "outputs": []
    },
    {
      "cell_type": "markdown",
      "metadata": {
        "id": "yGEVJM7wtV-C"
      },
      "source": [
        "**We Added 5 to Each Value**"
      ]
    },
    {
      "cell_type": "code",
      "metadata": {
        "id": "RzWMkIqptzOm"
      },
      "source": [
        "print(numpy_array + 5)"
      ],
      "execution_count": null,
      "outputs": []
    },
    {
      "cell_type": "markdown",
      "metadata": {
        "id": "cGzqafC0t7WM"
      },
      "source": [
        "**We Multiplied Each Value by 2**"
      ]
    },
    {
      "cell_type": "code",
      "metadata": {
        "id": "J2qcRvL1uOuV"
      },
      "source": [
        "print(numpy_array * 2)"
      ],
      "execution_count": null,
      "outputs": []
    },
    {
      "cell_type": "markdown",
      "metadata": {
        "id": "ZbRwTmwruTKu"
      },
      "source": [
        "**Matrices Multiplied**"
      ]
    },
    {
      "cell_type": "code",
      "metadata": {
        "id": "w1wcvDqRuxUv"
      },
      "source": [
        "numpy_array = np.array([0,1, 2, 3, 4, 5, 6, 7, 8, 9])\n",
        "numpy_array1 = numpy_array.reshape(5,2)\n",
        "numpy_array2 = numpy_array.reshape(2,5)\n",
        "print(np.dot(numpy_array1,numpy_array2))"
      ],
      "execution_count": null,
      "outputs": []
    },
    {
      "cell_type": "markdown",
      "metadata": {
        "id": "jJR6DOV-u4Fp"
      },
      "source": [
        "**Transposition of The Matrix**"
      ]
    },
    {
      "cell_type": "code",
      "metadata": {
        "id": "HmX_AgjRvH7a"
      },
      "source": [
        "numpy_array = np.array([0,1, 2, 3, 4, 5, 6, 7, 8, 9])\n",
        "numpy_array = numpy_array.reshape(5,2)\n",
        "print(numpy_array)\n",
        "print(\"------------------------ Transposed ----------------------\")\n",
        "print(numpy_array.T)"
      ],
      "execution_count": null,
      "outputs": []
    },
    {
      "cell_type": "markdown",
      "metadata": {
        "id": "WXymBwtovLS-"
      },
      "source": [
        "**Condition Statements in Numpy**"
      ]
    },
    {
      "cell_type": "code",
      "metadata": {
        "id": "hBv4g54ovoFJ"
      },
      "source": [
        "# Displays those greater than and equal to 5 in the numpy array as True.\n",
        "\n",
        "numpy_array = np.array([0,1, 2, 3, 4, 5, 6, 7, 8, 9])\n",
        "boolean_array = numpy_array >= 5\n",
        "print(boolean_array)"
      ],
      "execution_count": null,
      "outputs": []
    }
  ]
}
