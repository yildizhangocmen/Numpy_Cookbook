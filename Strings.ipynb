{
  "nbformat": 4,
  "nbformat_minor": 0,
  "metadata": {
    "colab": {
      "name": "Strings",
      "provenance": []
    },
    "kernelspec": {
      "name": "python3",
      "display_name": "Python 3"
    }
  },
  "cells": [
    {
      "cell_type": "markdown",
      "metadata": {
        "id": "_CRSzrCHYTSc"
      },
      "source": [
        "# STRING "
      ]
    },
    {
      "cell_type": "code",
      "metadata": {
        "id": "Tvx__xrgak0Q"
      },
      "source": [
        "name = 'John'\n",
        "surname = 'Doe'\n",
        "age = '25'"
      ],
      "execution_count": 41,
      "outputs": []
    },
    {
      "cell_type": "markdown",
      "metadata": {
        "id": "kKGxFhgUSxjM"
      },
      "source": [
        "**String Concanate Operations**"
      ]
    },
    {
      "cell_type": "code",
      "metadata": {
        "id": "-MMlvYDyZiJV",
        "outputId": "4a763819-ed70-410d-ec42-ae9cf3db9248",
        "colab": {
          "base_uri": "https://localhost:8080/",
          "height": 85
        }
      },
      "source": [
        "print('Name: '+ name + ' Surname: ' + surname + ' Age: ' + age)   \n",
        "\n",
        "print('Name: '+ name + '\\nSurname: ' + surname + '\\nAge: ' + age)    "
      ],
      "execution_count": 42,
      "outputs": [
        {
          "output_type": "stream",
          "text": [
            "Name: John Surname: Doe Age: 25\n",
            "Name: John\n",
            "Surname: Doe\n",
            "Age: 25\n"
          ],
          "name": "stdout"
        }
      ]
    },
    {
      "cell_type": "code",
      "metadata": {
        "id": "I-mlJoITZiHx",
        "outputId": "ef060591-a6e5-4470-a431-dcceeb45f090",
        "colab": {
          "base_uri": "https://localhost:8080/",
          "height": 153
        }
      },
      "source": [
        "print(len(name))\n",
        "print(name[0])\n",
        "print(name[-1])\n",
        "print(name[0:3])\n",
        "print(name[1:])\n",
        "print(name[:2])\n",
        "print(name[0:4:2])\n",
        "print(name[::])"
      ],
      "execution_count": 43,
      "outputs": [
        {
          "output_type": "stream",
          "text": [
            "4\n",
            "J\n",
            "n\n",
            "Joh\n",
            "ohn\n",
            "Jo\n",
            "Jh\n",
            "John\n"
          ],
          "name": "stdout"
        }
      ]
    },
    {
      "cell_type": "code",
      "metadata": {
        "id": "Mk9mE0ZpeMNI",
        "outputId": "6a769fd0-60b6-46f0-aabd-c00d4b2d0b48",
        "colab": {
          "base_uri": "https://localhost:8080/",
          "height": 51
        }
      },
      "source": [
        "print('My name is {}'.format(name))\n",
        "print('My name is {} {}'.format(name,surname))"
      ],
      "execution_count": 44,
      "outputs": [
        {
          "output_type": "stream",
          "text": [
            "My name is John\n",
            "My name is John Doe\n"
          ],
          "name": "stdout"
        }
      ]
    },
    {
      "cell_type": "code",
      "metadata": {
        "id": "9GMWbbnCe5tV",
        "outputId": "4abd14cd-325b-4b51-917b-ade1bfa9f01c",
        "colab": {
          "base_uri": "https://localhost:8080/",
          "height": 51
        }
      },
      "source": [
        "print('My name is {1} {0}'.format(name,surname))\n",
        "print('My name is {n} {s}'.format(n = name ,s= surname))"
      ],
      "execution_count": 45,
      "outputs": [
        {
          "output_type": "stream",
          "text": [
            "My name is Doe John\n",
            "My name is John Doe\n"
          ],
          "name": "stdout"
        }
      ]
    },
    {
      "cell_type": "code",
      "metadata": {
        "id": "kDteVthvh6w1",
        "outputId": "50c1fca0-0834-4408-fe3a-97c1897676ce",
        "colab": {
          "base_uri": "https://localhost:8080/",
          "height": 34
        }
      },
      "source": [
        "result = 10 / 2\n",
        "print('The result is {}'.format(result))"
      ],
      "execution_count": 46,
      "outputs": [
        {
          "output_type": "stream",
          "text": [
            "The result is 5.0\n"
          ],
          "name": "stdout"
        }
      ]
    },
    {
      "cell_type": "code",
      "metadata": {
        "id": "KASiAZwsiQkk",
        "outputId": "f3eac243-add2-42f1-97d5-2ace79e769cc",
        "colab": {
          "base_uri": "https://localhost:8080/",
          "height": 51
        }
      },
      "source": [
        "result = 200 / 700\n",
        "print('The result is {r:1.3}'.format(r = result))\n",
        "print('The result is {r:.3}'.format(r = result))\n"
      ],
      "execution_count": 47,
      "outputs": [
        {
          "output_type": "stream",
          "text": [
            "The result is 0.286\n",
            "The result is 0.286\n"
          ],
          "name": "stdout"
        }
      ]
    },
    {
      "cell_type": "code",
      "metadata": {
        "id": "LynKcaOsufDR",
        "outputId": "0be3a8ea-23d7-444a-fcc6-c043eada521d",
        "colab": {
          "base_uri": "https://localhost:8080/",
          "height": 34
        }
      },
      "source": [
        "print(f\"My name is {name} {surname}\")"
      ],
      "execution_count": 48,
      "outputs": [
        {
          "output_type": "stream",
          "text": [
            "My name is John Doe\n"
          ],
          "name": "stdout"
        }
      ]
    },
    {
      "cell_type": "code",
      "metadata": {
        "id": "00NP54cWumIL"
      },
      "source": [
        "message = 'Hello There. My name is John Doe'\n"
      ],
      "execution_count": 49,
      "outputs": []
    },
    {
      "cell_type": "code",
      "metadata": {
        "id": "fSCeta4Xurjh",
        "outputId": "e6bc0d16-3ac5-43b6-e3b2-a918c83f053a",
        "colab": {
          "base_uri": "https://localhost:8080/",
          "height": 85
        }
      },
      "source": [
        "message_upper = message.upper()\n",
        "message_lower = message.lower()\n",
        "message_title = message.title()\n",
        "message_capitalize = message.capitalize()\n",
        "print(f\"Upper: {message_upper}\\nLower: {message_lower}\\nTitle: {message_title}\\nCapitalize: {message_capitalize}\")"
      ],
      "execution_count": 50,
      "outputs": [
        {
          "output_type": "stream",
          "text": [
            "Upper: HELLO THERE. MY NAME IS JOHN DOE\n",
            "Lower: hello there. my name is john doe\n",
            "Title: Hello There. My Name Is John Doe\n",
            "Capitalize: Hello there. my name is john doe\n"
          ],
          "name": "stdout"
        }
      ]
    },
    {
      "cell_type": "code",
      "metadata": {
        "id": "7dMgi8RhvXbz",
        "outputId": "f3ebec52-5945-4271-81cf-30f640cea5fa",
        "colab": {
          "base_uri": "https://localhost:8080/",
          "height": 68
        }
      },
      "source": [
        "message = 'Hello There. My name is John Doe'\n",
        "message_strip = message.strip()\n",
        "message_split = message.split()\n",
        "message = 'Hello There. My name is John Doe'\n",
        "message_split_dot= message.split('.')\n",
        "print(f\"Strip: {message_strip}\\nSplit: {message_split}\\nSplit Dot: {message_split_dot}\")"
      ],
      "execution_count": 51,
      "outputs": [
        {
          "output_type": "stream",
          "text": [
            "Strip: Hello There. My name is John Doe\n",
            "Split: ['Hello', 'There.', 'My', 'name', 'is', 'John', 'Doe']\n",
            "Split Dot: ['Hello There', ' My name is John Doe']\n"
          ],
          "name": "stdout"
        }
      ]
    },
    {
      "cell_type": "code",
      "metadata": {
        "id": "B-PQo_Bmv4Lq",
        "outputId": "a13bcb19-d7b5-44b0-8054-132ecff8fac7",
        "colab": {
          "base_uri": "https://localhost:8080/",
          "height": 34
        }
      },
      "source": [
        "message_join = ' '.join(message)\n",
        "print(f\"Join: {message_join}\")"
      ],
      "execution_count": 52,
      "outputs": [
        {
          "output_type": "stream",
          "text": [
            "Join: H e l l o   T h e r e .   M y   n a m e   i s   J o h n   D o e\n"
          ],
          "name": "stdout"
        }
      ]
    },
    {
      "cell_type": "code",
      "metadata": {
        "id": "K5-TAY_sv-Ct",
        "outputId": "7c5ade48-23d3-4dec-f0ad-d181db4effb3",
        "colab": {
          "base_uri": "https://localhost:8080/",
          "height": 51
        }
      },
      "source": [
        "index_one  = message.find('John')  \n",
        "index_two = message.find('Jessica') \n",
        "print(f\"Index One: {index_one}\\nIndex Two: {index_two}\")\n"
      ],
      "execution_count": 57,
      "outputs": [
        {
          "output_type": "stream",
          "text": [
            "Index One: -1\n",
            "Index Two: 56\n"
          ],
          "name": "stdout"
        }
      ]
    },
    {
      "cell_type": "code",
      "metadata": {
        "id": "UJc9E8j7BtNT",
        "outputId": "907e7a26-223a-4af6-d817-50d392c0a400",
        "colab": {
          "base_uri": "https://localhost:8080/",
          "height": 51
        }
      },
      "source": [
        "isFound_h = message.startswith('H') \n",
        "isFound_e = message.endswith('e')   \n",
        "print(f\"Is Found H: {isFound_h}\\nIs Found E: {isFound_e}\")\n"
      ],
      "execution_count": 58,
      "outputs": [
        {
          "output_type": "stream",
          "text": [
            "Is Found H: False\n",
            "Is Found E: False\n"
          ],
          "name": "stdout"
        }
      ]
    },
    {
      "cell_type": "code",
      "metadata": {
        "id": "b9_htwxiB1Bf",
        "outputId": "f410c90d-cd98-4725-bcf8-c5c958e548a7",
        "colab": {
          "base_uri": "https://localhost:8080/",
          "height": 51
        }
      },
      "source": [
        "message = 'Hello There. My name is John Doe'\n",
        "message_replace_name = message.replace('John','Jessica') \n",
        "message_replace_whitespace = message.replace(' ', '*')    \n",
        "print(f\"Replace Name: {message_replace_name}\\nReplace White Space: {message_replace_whitespace}\")"
      ],
      "execution_count": 59,
      "outputs": [
        {
          "output_type": "stream",
          "text": [
            "Replace Name: Hello There. My name is Jessica Doe\n",
            "Replace White Space: Hello*There.*My*name*is*John*Doe\n"
          ],
          "name": "stdout"
        }
      ]
    },
    {
      "cell_type": "code",
      "metadata": {
        "id": "h3NnRdz1B8Zj",
        "outputId": "672cce24-a35d-4c98-e635-79a6491c173b",
        "colab": {
          "base_uri": "https://localhost:8080/",
          "height": 51
        }
      },
      "source": [
        "\n",
        "message = message.center(100) \n",
        "message = message.center(100,'*') \n",
        "\n",
        "result = message.count('a') \n",
        "result = message.count('a',0,10) \n",
        "\n",
        "print(message)\n",
        "print(result)"
      ],
      "execution_count": 60,
      "outputs": [
        {
          "output_type": "stream",
          "text": [
            "                                  Hello There. My name is John Doe                                  \n",
            "0\n"
          ],
          "name": "stdout"
        }
      ]
    }
  ]
}